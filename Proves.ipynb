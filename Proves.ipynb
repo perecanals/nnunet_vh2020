{
 "cells": [
  {
   "cell_type": "code",
   "execution_count": 1,
   "metadata": {},
   "outputs": [],
   "source": [
    "import numpy as np\n",
    "\n",
    "import os\n",
    "import glob\n",
    "import shutil\n",
    "import json\n",
    "from batchgenerators.utilities.file_and_folder_operations import maybe_mkdir_p, join\n",
    "\n",
    "from time import time\n",
    "\n",
    "import nibabel as nib\n",
    "from nibabel.testing import data_path\n",
    "\n",
    "from evaluation_metrics import eval_metrics\n",
    "from testing import testing"
   ]
  },
  {
   "cell_type": "code",
   "execution_count": 2,
   "metadata": {},
   "outputs": [],
   "source": [
    "nnunet_dir = '/Users/pere/opt/anaconda3/envs/nnunet_env/nnUNet/nnunet'\n",
    "MODEL_DIR = join(nnunet_dir, 'models/default_model/fold1')\n",
    "MODE = 'EVALUATION'"
   ]
  },
  {
   "cell_type": "code",
   "execution_count": 3,
   "metadata": {},
   "outputs": [
    {
     "output_type": "stream",
     "name": "stdout",
     "text": "Reading data...\ndone\n    \nNumber of images for testing: 1\n                                              \nEvaluation for 117.nii.gz (11738261_label.nii.gz)\nVoxel error: 0.001581\nIoU: 0.735281\nDice: 0.847449\n                                        \nFiles saved in /Users/pere/opt/anaconda3/envs/nnunet_env/nnUNet/nnunet/models/default_model/fold1/test/progress\n                            \nResults:                                     \nMean voxel error: 0.001581\nMean IoU: 0.735281\nMean Dice: 0.847449\n"
    },
    {
     "output_type": "error",
     "ename": "UnboundLocalError",
     "evalue": "local variable 'list_imagesTest' referenced before assignment",
     "traceback": [
      "\u001b[0;31m---------------------------------------------------------------------------\u001b[0m",
      "\u001b[0;31mUnboundLocalError\u001b[0m                         Traceback (most recent call last)",
      "\u001b[0;32m<ipython-input-3-bb5f85044b8c>\u001b[0m in \u001b[0;36m<module>\u001b[0;34m\u001b[0m\n\u001b[0;32m----> 1\u001b[0;31m \u001b[0mtesting\u001b[0m\u001b[0;34m(\u001b[0m\u001b[0mnnunet_dir\u001b[0m\u001b[0;34m,\u001b[0m \u001b[0mMODEL_DIR\u001b[0m\u001b[0;34m=\u001b[0m\u001b[0mMODEL_DIR\u001b[0m\u001b[0;34m,\u001b[0m \u001b[0mMODE\u001b[0m\u001b[0;34m=\u001b[0m\u001b[0mMODE\u001b[0m\u001b[0;34m)\u001b[0m\u001b[0;34m\u001b[0m\u001b[0;34m\u001b[0m\u001b[0m\n\u001b[0m",
      "\u001b[0;32m~/opt/anaconda3/envs/nnunet_env/nnUNet/nnunet/nnunet_vh2020/new_code/testing.py\u001b[0m in \u001b[0;36mtesting\u001b[0;34m(nnunet_dir, MODEL_DIR, MODE, LOW_RAM)\u001b[0m\n\u001b[1;32m    146\u001b[0m         \u001b[0meval_metrics\u001b[0m\u001b[0;34m(\u001b[0m\u001b[0mnnunet_dir\u001b[0m\u001b[0;34m,\u001b[0m \u001b[0mMODEL_DIR\u001b[0m\u001b[0;34m)\u001b[0m\u001b[0;34m\u001b[0m\u001b[0;34m\u001b[0m\u001b[0m\n\u001b[1;32m    147\u001b[0m \u001b[0;34m\u001b[0m\u001b[0m\n\u001b[0;32m--> 148\u001b[0;31m         \u001b[0mprint\u001b[0m\u001b[0;34m(\u001b[0m\u001b[0;34mf'Evaluation took {time() - start} s ({len(list_imagesTest)} images)'\u001b[0m\u001b[0;34m)\u001b[0m\u001b[0;34m\u001b[0m\u001b[0;34m\u001b[0m\u001b[0m\n\u001b[0m\u001b[1;32m    149\u001b[0m         \u001b[0mprint\u001b[0m\u001b[0;34m(\u001b[0m\u001b[0;34m'                                                                   '\u001b[0m\u001b[0;34m)\u001b[0m\u001b[0;34m\u001b[0m\u001b[0;34m\u001b[0m\u001b[0m\n\u001b[1;32m    150\u001b[0m \u001b[0;34m\u001b[0m\u001b[0m\n",
      "\u001b[0;31mUnboundLocalError\u001b[0m: local variable 'list_imagesTest' referenced before assignment"
     ]
    }
   ],
   "source": [
    "testing(nnunet_dir, MODEL_DIR=MODEL_DIR, MODE=MODE)"
   ]
  },
  {
   "cell_type": "code",
   "execution_count": null,
   "metadata": {},
   "outputs": [],
   "source": []
  }
 ],
 "metadata": {
  "kernelspec": {
   "name": "python37464bitb112e27707734d77a4fe848adda5e414",
   "display_name": "Python 3.7.4 64-bit"
  }
 },
 "nbformat": 4,
 "nbformat_minor": 2
}