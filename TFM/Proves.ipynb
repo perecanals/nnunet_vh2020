{
 "cells": [
  {
   "cell_type": "code",
   "execution_count": 8,
   "metadata": {},
   "outputs": [],
   "source": [
    "import torch\n",
    "import numpy as np\n",
    "import torchvision\n",
    "import torchvision.transforms as transforms\n",
    "\n",
    "import os\n",
    "import glob\n",
    "import shutil\n",
    "\n",
    "import nibabel as nib\n",
    "from nibabel.testing import data_path\n",
    "\n",
    "import sklearn\n",
    "from sklearn.metrics import confusion_matrix\n",
    "\n",
    "import time"
   ]
  },
  {
   "cell_type": "code",
   "execution_count": 9,
   "metadata": {},
   "outputs": [],
   "source": [
    "path_in = \"/Users/pere/opt/anaconda3/envs/nnunet_env/nnUNet/nnunet/inference_test/input\"\n",
    "path_label = \"/Users/pere/opt/anaconda3/envs/nnunet_env/nnUNet/nnunet/inference_test/labels\"\n",
    "path_out = \"/Users/pere/opt/anaconda3/envs/nnunet_env/nnUNet/nnunet/inference_test/output\"\n",
    "\n",
    "dir_in = os.fsencode(path_in)\n",
    "dir_label = os.fsencode(path_label)\n",
    "dir_out = os.fsencode(path_out)"
   ]
  },
  {
   "cell_type": "code",
   "execution_count": 10,
   "metadata": {},
   "outputs": [],
   "source": [
    "list_in = []; list_label = []; list_out = []\n",
    "\n",
    "for file in os.listdir(dir_in):\n",
    "     filename = os.fsdecode(file)\n",
    "     if filename.endswith(\".gz\"):\n",
    "         # print(os.path.join(filename))\n",
    "         list_in.append(filename)\n",
    "         continue\n",
    "     else:\n",
    "         continue\n",
    "\n",
    "for file in os.listdir(dir_label):\n",
    "     filename = os.fsdecode(file)\n",
    "     if filename.endswith(\".gz\"):\n",
    "         # print(os.path.join(filename))\n",
    "         list_label.append(filename)\n",
    "         continue\n",
    "     else:\n",
    "         continue\n",
    "\n",
    "for file in os.listdir(dir_out):\n",
    "     filename = os.fsdecode(file)\n",
    "     if filename.endswith(\".gz\"):\n",
    "         # print(os.path.join(filename))\n",
    "         list_out.append(filename)\n",
    "         continue\n",
    "     else:\n",
    "         continue\n",
    "\n",
    "list_in.sort()\n",
    "list_label.sort()\n",
    "list_out.sort()"
   ]
  },
  {
   "cell_type": "code",
   "execution_count": 79,
   "metadata": {},
   "outputs": [
    {
     "name": "stdout",
     "output_type": "stream",
     "text": "['11738261.nii.gz', '12064495.nii.gz', '16066427.nii.gz', '19307050.nii.gz']\n['11738261_label.nii.gz', '11984906_label.nii.gz', '12064495_label.nii.gz', '12420308_label.nii.gz', '14912947_label.nii.gz', '14941502_label.nii.gz', '15144458_label.nii.gz', '16066427_label.nii.gz', '16589767_label.nii.gz', '16655790_label.nii.gz', '17507517_label.nii.gz', '19307050_label.nii.gz']\n['117.nii.gz', '119.nii.gz', '120.nii.gz']\n"
    }
   ],
   "source": [
    "print(list_in)\n",
    "print(list_label)\n",
    "print(list_out)"
   ]
  },
  {
   "cell_type": "code",
   "execution_count": 62,
   "metadata": {},
   "outputs": [
    {
     "name": "stdout",
     "output_type": "stream",
     "text": "tensor([[[0, 0, 0,  ..., 0, 0, 0],\n         [0, 0, 0,  ..., 0, 0, 0],\n         [0, 0, 0,  ..., 0, 0, 0],\n         ...,\n         [0, 0, 0,  ..., 0, 0, 0],\n         [0, 0, 0,  ..., 0, 0, 0],\n         [0, 0, 0,  ..., 0, 0, 0]],\n\n        [[0, 0, 0,  ..., 0, 0, 0],\n         [0, 0, 0,  ..., 0, 0, 0],\n         [0, 0, 0,  ..., 0, 0, 0],\n         ...,\n         [0, 0, 0,  ..., 0, 0, 0],\n         [0, 0, 0,  ..., 0, 0, 0],\n         [0, 0, 0,  ..., 0, 0, 0]],\n\n        [[0, 0, 0,  ..., 0, 0, 0],\n         [0, 0, 0,  ..., 0, 0, 0],\n         [0, 0, 0,  ..., 0, 0, 0],\n         ...,\n         [0, 0, 0,  ..., 0, 0, 0],\n         [0, 0, 0,  ..., 0, 0, 0],\n         [0, 0, 0,  ..., 0, 0, 0]],\n\n        ...,\n\n        [[0, 0, 0,  ..., 0, 0, 0],\n         [0, 0, 0,  ..., 0, 0, 0],\n         [0, 0, 0,  ..., 0, 0, 0],\n         ...,\n         [0, 0, 0,  ..., 0, 0, 0],\n         [0, 0, 0,  ..., 0, 0, 0],\n         [0, 0, 0,  ..., 0, 0, 0]],\n\n        [[0, 0, 0,  ..., 0, 0, 0],\n         [0, 0, 0,  ..., 0, 0, 0],\n         [0, 0, 0,  ..., 0, 0, 0],\n         ...,\n         [0, 0, 0,  ..., 0, 0, 0],\n         [0, 0, 0,  ..., 0, 0, 0],\n         [0, 0, 0,  ..., 0, 0, 0]],\n\n        [[0, 0, 0,  ..., 0, 0, 0],\n         [0, 0, 0,  ..., 0, 0, 0],\n         [0, 0, 0,  ..., 0, 0, 0],\n         ...,\n         [0, 0, 0,  ..., 0, 0, 0],\n         [0, 0, 0,  ..., 0, 0, 0],\n         [0, 0, 0,  ..., 0, 0, 0]]], dtype=torch.int16)\n1.4361388683319092\ntensor([0, 0, 0,  ..., 0, 0, 0], dtype=torch.int16)\n0.9130959510803223\n[[[0 0 0 ... 0 0 0]\n  [0 0 0 ... 0 0 0]\n  [0 0 0 ... 0 0 0]\n  ...\n  [0 0 0 ... 0 0 0]\n  [0 0 0 ... 0 0 0]\n  [0 0 0 ... 0 0 0]]\n\n [[0 0 0 ... 0 0 0]\n  [0 0 0 ... 0 0 0]\n  [0 0 0 ... 0 0 0]\n  ...\n  [0 0 0 ... 0 0 0]\n  [0 0 0 ... 0 0 0]\n  [0 0 0 ... 0 0 0]]\n\n [[0 0 0 ... 0 0 0]\n  [0 0 0 ... 0 0 0]\n  [0 0 0 ... 0 0 0]\n  ...\n  [0 0 0 ... 0 0 0]\n  [0 0 0 ... 0 0 0]\n  [0 0 0 ... 0 0 0]]\n\n ...\n\n [[0 0 0 ... 0 0 0]\n  [0 0 0 ... 0 0 0]\n  [0 0 0 ... 0 0 0]\n  ...\n  [0 0 0 ... 0 0 0]\n  [0 0 0 ... 0 0 0]\n  [0 0 0 ... 0 0 0]]\n\n [[0 0 0 ... 0 0 0]\n  [0 0 0 ... 0 0 0]\n  [0 0 0 ... 0 0 0]\n  ...\n  [0 0 0 ... 0 0 0]\n  [0 0 0 ... 0 0 0]\n  [0 0 0 ... 0 0 0]]\n\n [[0 0 0 ... 0 0 0]\n  [0 0 0 ... 0 0 0]\n  [0 0 0 ... 0 0 0]\n  ...\n  [0 0 0 ... 0 0 0]\n  [0 0 0 ... 0 0 0]\n  [0 0 0 ... 0 0 0]]]\n0.30902910232543945\ntensor([[[0, 0, 0,  ..., 0, 0, 0],\n         [0, 0, 0,  ..., 0, 0, 0],\n         [0, 0, 0,  ..., 0, 0, 0],\n         ...,\n         [0, 0, 0,  ..., 0, 0, 0],\n         [0, 0, 0,  ..., 0, 0, 0],\n         [0, 0, 0,  ..., 0, 0, 0]],\n\n        [[0, 0, 0,  ..., 0, 0, 0],\n         [0, 0, 0,  ..., 0, 0, 0],\n         [0, 0, 0,  ..., 0, 0, 0],\n         ...,\n         [0, 0, 0,  ..., 0, 0, 0],\n         [0, 0, 0,  ..., 0, 0, 0],\n         [0, 0, 0,  ..., 0, 0, 0]],\n\n        [[0, 0, 0,  ..., 0, 0, 0],\n         [0, 0, 0,  ..., 0, 0, 0],\n         [0, 0, 0,  ..., 0, 0, 0],\n         ...,\n         [0, 0, 0,  ..., 0, 0, 0],\n         [0, 0, 0,  ..., 0, 0, 0],\n         [0, 0, 0,  ..., 0, 0, 0]],\n\n        ...,\n\n        [[0, 0, 0,  ..., 0, 0, 0],\n         [0, 0, 0,  ..., 0, 0, 0],\n         [0, 0, 0,  ..., 0, 0, 0],\n         ...,\n         [0, 0, 0,  ..., 0, 0, 0],\n         [0, 0, 0,  ..., 0, 0, 0],\n         [0, 0, 0,  ..., 0, 0, 0]],\n\n        [[0, 0, 0,  ..., 0, 0, 0],\n         [0, 0, 0,  ..., 0, 0, 0],\n         [0, 0, 0,  ..., 0, 0, 0],\n         ...,\n         [0, 0, 0,  ..., 0, 0, 0],\n         [0, 0, 0,  ..., 0, 0, 0],\n         [0, 0, 0,  ..., 0, 0, 0]],\n\n        [[0, 0, 0,  ..., 0, 0, 0],\n         [0, 0, 0,  ..., 0, 0, 0],\n         [0, 0, 0,  ..., 0, 0, 0],\n         ...,\n         [0, 0, 0,  ..., 0, 0, 0],\n         [0, 0, 0,  ..., 0, 0, 0],\n         [0, 0, 0,  ..., 0, 0, 0]]], dtype=torch.int16)\n0.5801310539245605\ntensor([0, 0, 0,  ..., 0, 0, 0], dtype=torch.int16)\n0.856968879699707\n[[[0 0 0 ... 0 0 0]\n  [0 0 0 ... 0 0 0]\n  [0 0 0 ... 0 0 0]\n  ...\n  [0 0 0 ... 0 0 0]\n  [0 0 0 ... 0 0 0]\n  [0 0 0 ... 0 0 0]]\n\n [[0 0 0 ... 0 0 0]\n  [0 0 0 ... 0 0 0]\n  [0 0 0 ... 0 0 0]\n  ...\n  [0 0 0 ... 0 0 0]\n  [0 0 0 ... 0 0 0]\n  [0 0 0 ... 0 0 0]]\n\n [[0 0 0 ... 0 0 0]\n  [0 0 0 ... 0 0 0]\n  [0 0 0 ... 0 0 0]\n  ...\n  [0 0 0 ... 0 0 0]\n  [0 0 0 ... 0 0 0]\n  [0 0 0 ... 0 0 0]]\n\n ...\n\n [[0 0 0 ... 0 0 0]\n  [0 0 0 ... 0 0 0]\n  [0 0 0 ... 0 0 0]\n  ...\n  [0 0 0 ... 0 0 0]\n  [0 0 0 ... 0 0 0]\n  [0 0 0 ... 0 0 0]]\n\n [[0 0 0 ... 0 0 0]\n  [0 0 0 ... 0 0 0]\n  [0 0 0 ... 0 0 0]\n  ...\n  [0 0 0 ... 0 0 0]\n  [0 0 0 ... 0 0 0]\n  [0 0 0 ... 0 0 0]]\n\n [[0 0 0 ... 0 0 0]\n  [0 0 0 ... 0 0 0]\n  [0 0 0 ... 0 0 0]\n  ...\n  [0 0 0 ... 0 0 0]\n  [0 0 0 ... 0 0 0]\n  [0 0 0 ... 0 0 0]]]\n0.36342597007751465\ntensor([[[0, 0, 0,  ..., 0, 0, 0],\n         [0, 0, 0,  ..., 0, 0, 0],\n         [0, 0, 0,  ..., 0, 0, 0],\n         ...,\n         [0, 0, 0,  ..., 0, 0, 0],\n         [0, 0, 0,  ..., 0, 0, 0],\n         [0, 0, 0,  ..., 0, 0, 0]],\n\n        [[0, 0, 0,  ..., 0, 0, 0],\n         [0, 0, 0,  ..., 0, 0, 0],\n         [0, 0, 0,  ..., 0, 0, 0],\n         ...,\n         [0, 0, 0,  ..., 0, 0, 0],\n         [0, 0, 0,  ..., 0, 0, 0],\n         [0, 0, 0,  ..., 0, 0, 0]],\n\n        [[0, 0, 0,  ..., 0, 0, 0],\n         [0, 0, 0,  ..., 0, 0, 0],\n         [0, 0, 0,  ..., 0, 0, 0],\n         ...,\n         [0, 0, 0,  ..., 0, 0, 0],\n         [0, 0, 0,  ..., 0, 0, 0],\n         [0, 0, 0,  ..., 0, 0, 0]],\n\n        ...,\n\n        [[0, 0, 0,  ..., 0, 0, 0],\n         [0, 0, 0,  ..., 0, 0, 0],\n         [0, 0, 0,  ..., 0, 0, 0],\n         ...,\n         [0, 0, 0,  ..., 0, 0, 0],\n         [0, 0, 0,  ..., 0, 0, 0],\n         [0, 0, 0,  ..., 0, 0, 0]],\n\n        [[0, 0, 0,  ..., 0, 0, 0],\n         [0, 0, 0,  ..., 0, 0, 0],\n         [0, 0, 0,  ..., 0, 0, 0],\n         ...,\n         [0, 0, 0,  ..., 0, 0, 0],\n         [0, 0, 0,  ..., 0, 0, 0],\n         [0, 0, 0,  ..., 0, 0, 0]],\n\n        [[0, 0, 0,  ..., 0, 0, 0],\n         [0, 0, 0,  ..., 0, 0, 0],\n         [0, 0, 0,  ..., 0, 0, 0],\n         ...,\n         [0, 0, 0,  ..., 0, 0, 0],\n         [0, 0, 0,  ..., 0, 0, 0],\n         [0, 0, 0,  ..., 0, 0, 0]]], dtype=torch.int16)\n0.5554089546203613\ntensor([0, 0, 0,  ..., 0, 0, 0], dtype=torch.int16)\n0.7917890548706055\n[[[0 0 0 ... 0 0 0]\n  [0 0 0 ... 0 0 0]\n  [0 0 0 ... 0 0 0]\n  ...\n  [0 0 0 ... 0 0 0]\n  [0 0 0 ... 0 0 0]\n  [0 0 0 ... 0 0 0]]\n\n [[0 0 0 ... 0 0 0]\n  [0 0 0 ... 0 0 0]\n  [0 0 0 ... 0 0 0]\n  ...\n  [0 0 0 ... 0 0 0]\n  [0 0 0 ... 0 0 0]\n  [0 0 0 ... 0 0 0]]\n\n [[0 0 0 ... 0 0 0]\n  [0 0 0 ... 0 0 0]\n  [0 0 0 ... 0 0 0]\n  ...\n  [0 0 0 ... 0 0 0]\n  [0 0 0 ... 0 0 0]\n  [0 0 0 ... 0 0 0]]\n\n ...\n\n [[0 0 0 ... 0 0 0]\n  [0 0 0 ... 0 0 0]\n  [0 0 0 ... 0 0 0]\n  ...\n  [0 0 0 ... 0 0 0]\n  [0 0 0 ... 0 0 0]\n  [0 0 0 ... 0 0 0]]\n\n [[0 0 0 ... 0 0 0]\n  [0 0 0 ... 0 0 0]\n  [0 0 0 ... 0 0 0]\n  ...\n  [0 0 0 ... 0 0 0]\n  [0 0 0 ... 0 0 0]\n  [0 0 0 ... 0 0 0]]\n\n [[0 0 0 ... 0 0 0]\n  [0 0 0 ... 0 0 0]\n  [0 0 0 ... 0 0 0]\n  ...\n  [0 0 0 ... 0 0 0]\n  [0 0 0 ... 0 0 0]\n  [0 0 0 ... 0 0 0]]]\n0.4256758689880371\n"
    },
    {
     "ename": "IndexError",
     "evalue": "list index out of range",
     "output_type": "error",
     "traceback": [
      "\u001b[0;31m---------------------------------------------------------------------------\u001b[0m",
      "\u001b[0;31mIndexError\u001b[0m                                Traceback (most recent call last)",
      "\u001b[0;32m<ipython-input-62-b4ed67a7601b>\u001b[0m in \u001b[0;36m<module>\u001b[0;34m\u001b[0m\n\u001b[1;32m      4\u001b[0m     \u001b[0mpath_file_label\u001b[0m \u001b[0;34m=\u001b[0m \u001b[0mos\u001b[0m\u001b[0;34m.\u001b[0m\u001b[0mpath\u001b[0m\u001b[0;34m.\u001b[0m\u001b[0mjoin\u001b[0m\u001b[0;34m(\u001b[0m\u001b[0mpath_label\u001b[0m\u001b[0;34m,\u001b[0m \u001b[0mlist_label\u001b[0m\u001b[0;34m[\u001b[0m\u001b[0mi\u001b[0m\u001b[0;34m]\u001b[0m\u001b[0;34m)\u001b[0m\u001b[0;34m\u001b[0m\u001b[0;34m\u001b[0m\u001b[0m\n\u001b[1;32m      5\u001b[0m     \u001b[0mimg_label\u001b[0m \u001b[0;34m=\u001b[0m \u001b[0mnib\u001b[0m\u001b[0;34m.\u001b[0m\u001b[0mload\u001b[0m\u001b[0;34m(\u001b[0m\u001b[0mpath_file_label\u001b[0m\u001b[0;34m)\u001b[0m\u001b[0;34m\u001b[0m\u001b[0;34m\u001b[0m\u001b[0m\n\u001b[0;32m----> 6\u001b[0;31m     \u001b[0mpath_file_out\u001b[0m \u001b[0;34m=\u001b[0m \u001b[0mos\u001b[0m\u001b[0;34m.\u001b[0m\u001b[0mpath\u001b[0m\u001b[0;34m.\u001b[0m\u001b[0mjoin\u001b[0m\u001b[0;34m(\u001b[0m\u001b[0mpath_out\u001b[0m\u001b[0;34m,\u001b[0m \u001b[0mlist_out\u001b[0m\u001b[0;34m[\u001b[0m\u001b[0mi\u001b[0m\u001b[0;34m]\u001b[0m\u001b[0;34m)\u001b[0m\u001b[0;34m\u001b[0m\u001b[0;34m\u001b[0m\u001b[0m\n\u001b[0m\u001b[1;32m      7\u001b[0m     \u001b[0mimg_out\u001b[0m \u001b[0;34m=\u001b[0m \u001b[0mnib\u001b[0m\u001b[0;34m.\u001b[0m\u001b[0mload\u001b[0m\u001b[0;34m(\u001b[0m\u001b[0mpath_file_out\u001b[0m\u001b[0;34m)\u001b[0m\u001b[0;34m\u001b[0m\u001b[0;34m\u001b[0m\u001b[0m\n\u001b[1;32m      8\u001b[0m \u001b[0;34m\u001b[0m\u001b[0m\n",
      "\u001b[0;31mIndexError\u001b[0m: list index out of range"
     ]
    }
   ],
   "source": [
    "for i in range(len(list_in)):\n",
    "    path_file_in = os.path.join(path_in, list_in[i])\n",
    "    img_in = nib.load(path_file_in)\n",
    "    path_file_label = os.path.join(path_label, list_label[i])\n",
    "    img_label = nib.load(path_file_label)\n",
    "    path_file_out = os.path.join(path_out, list_out[i])\n",
    "    img_out = nib.load(path_file_out)\n",
    "\n",
    "    img_in_data = img_in.get_data()\n",
    "    t_in = torch.tensor(img_in_data)\n",
    "    img_label_data = img_label.get_data()\n",
    "    t_label = torch.tensor(img_label_data)\n",
    "    img_out_data = img_out.get_data()\n",
    "    t_out = torch.tensor(img_out_data)\n",
    "\n",
    "    start = time.time()\n",
    "\n",
    "    t_substraction = t_label - t_out\n",
    "    print(t_substraction)\n",
    "\n",
    "    end = time.time()\n",
    "    print(end - start)\n",
    "\n",
    "    start = time.time()\n",
    "\n",
    "    t_substraction_2 = t_label.view(-1) - t_out.view(-1)\n",
    "    print(t_substraction_2)\n",
    "\n",
    "    end = time.time()\n",
    "    print(end - start)\n",
    "\n",
    "    start = time.time()\n",
    "\n",
    "    y_label = t_label.numpy()\n",
    "    y_out = t_out.numpy()\n",
    "    y_substraction = y_label - y_out\n",
    "    print(y_substraction)\n",
    "\n",
    "    end = time.time()\n",
    "    print(end - start)"
   ]
  },
  {
   "cell_type": "code",
   "execution_count": 6,
   "metadata": {},
   "outputs": [],
   "source": [
    "accuracy = []\n",
    "sensitivity = []\n",
    "specificity = []\n",
    "dice_score = []"
   ]
  },
  {
   "cell_type": "code",
   "execution_count": 7,
   "metadata": {},
   "outputs": [
    {
     "ename": "NameError",
     "evalue": "name 'list_in' is not defined",
     "output_type": "error",
     "traceback": [
      "\u001b[0;31m---------------------------------------------------------------------------\u001b[0m",
      "\u001b[0;31mNameError\u001b[0m                                 Traceback (most recent call last)",
      "\u001b[0;32m<ipython-input-7-297daadd8221>\u001b[0m in \u001b[0;36m<module>\u001b[0;34m\u001b[0m\n\u001b[1;32m      1\u001b[0m \u001b[0mstart\u001b[0m \u001b[0;34m=\u001b[0m \u001b[0mtime\u001b[0m\u001b[0;34m.\u001b[0m\u001b[0mtime\u001b[0m\u001b[0;34m(\u001b[0m\u001b[0;34m)\u001b[0m\u001b[0;34m\u001b[0m\u001b[0;34m\u001b[0m\u001b[0m\n\u001b[1;32m      2\u001b[0m \u001b[0;34m\u001b[0m\u001b[0m\n\u001b[0;32m----> 3\u001b[0;31m \u001b[0;32mfor\u001b[0m \u001b[0mi\u001b[0m \u001b[0;32min\u001b[0m \u001b[0mrange\u001b[0m\u001b[0;34m(\u001b[0m\u001b[0mlen\u001b[0m\u001b[0;34m(\u001b[0m\u001b[0mlist_in\u001b[0m\u001b[0;34m)\u001b[0m\u001b[0;34m)\u001b[0m\u001b[0;34m:\u001b[0m\u001b[0;34m\u001b[0m\u001b[0;34m\u001b[0m\u001b[0m\n\u001b[0m\u001b[1;32m      4\u001b[0m     \u001b[0mpath_file_in\u001b[0m \u001b[0;34m=\u001b[0m \u001b[0mos\u001b[0m\u001b[0;34m.\u001b[0m\u001b[0mpath\u001b[0m\u001b[0;34m.\u001b[0m\u001b[0mjoin\u001b[0m\u001b[0;34m(\u001b[0m\u001b[0mpath_in\u001b[0m\u001b[0;34m,\u001b[0m \u001b[0mlist_in\u001b[0m\u001b[0;34m[\u001b[0m\u001b[0mi\u001b[0m\u001b[0;34m]\u001b[0m\u001b[0;34m)\u001b[0m\u001b[0;34m\u001b[0m\u001b[0;34m\u001b[0m\u001b[0m\n\u001b[1;32m      5\u001b[0m     \u001b[0mimg_in\u001b[0m \u001b[0;34m=\u001b[0m \u001b[0mnib\u001b[0m\u001b[0;34m.\u001b[0m\u001b[0mload\u001b[0m\u001b[0;34m(\u001b[0m\u001b[0mpath_file_in\u001b[0m\u001b[0;34m)\u001b[0m\u001b[0;34m\u001b[0m\u001b[0;34m\u001b[0m\u001b[0m\n",
      "\u001b[0;31mNameError\u001b[0m: name 'list_in' is not defined"
     ]
    }
   ],
   "source": [
    "start = time.time()\n",
    "\n",
    "for i in range(len(list_in)):\n",
    "    path_file_in = os.path.join(path_in, list_in[i])\n",
    "    img_in = nib.load(path_file_in)\n",
    "    path_file_label = os.path.join(path_label, list_label[i])\n",
    "    img_label = nib.load(path_file_label)\n",
    "    path_file_out = os.path.join(path_out, list_out[i])\n",
    "    img_out = nib.load(path_file_out)\n",
    "\n",
    "    img_in_data = img_in.get_data()\n",
    "    t_in = torch.tensor(img_in_data)\n",
    "    img_label_data = img_label.get_data()\n",
    "    t_label = torch.tensor(img_label_data)\n",
    "    img_out_data = img_out.get_data()\n",
    "    t_out = torch.tensor(img_out_data)\n",
    "\n",
    "    start2 = time.time()\n",
    "\n",
    "    CM = confusion_matrix(t_label.view(-1), t_out.view(-1))\n",
    "\n",
    "    tp = CM[0,0] \n",
    "    fp = CM[0,1]\n",
    "    fn = CM[1,0]\n",
    "    tn = CM[1,1]\n",
    "\n",
    "    end2 = time.time()\n",
    "\n",
    "    print(\"time 2 =\", end2-start2)\n",
    "\n",
    "    acc = (tn + tp) / (tn + tp + fn + fp)\n",
    "    sen = tp / (tp + fn)\n",
    "    spe = tn / (tn + fp)\n",
    "    dice = 2 * tp / (2 * tp + fp + fn)\n",
    "\n",
    "    accuracy.append(acc)\n",
    "    sensitivity.append(sen)\n",
    "    specificity.append(spe)\n",
    "    dice_score.append(dice)\n",
    "\n",
    "    print('acc =', acc)\n",
    "    print('sen =', sen)\n",
    "    print('spe =', spe)\n",
    "    print('dice', dice)\n",
    "\n",
    "end = time.time()\n",
    "\n",
    "print(\"time CM =\", end-start)"
   ]
  },
  {
   "cell_type": "code",
   "execution_count": null,
   "metadata": {},
   "outputs": [],
   "source": [
    "acc_mean = np.mean(accuracy)\n",
    "acc_std = np.std(accuracy)\n",
    "\n",
    "print('accuracy =', acc_mean, acc_std)\n",
    "\n",
    "sen_mean = np.mean(sensitivity)\n",
    "sen_std = np.std(sensitivity)\n",
    "\n",
    "print('sensitivity =', sen_mean, sen_std)\n",
    "\n",
    "spe_mean = np.mean(specificity)\n",
    "spe_std = np.std(specificity)\n",
    "\n",
    "print('specificity =', spe_mean, spe_std)\n",
    "\n",
    "dice_mean = np.mean(dice_score)\n",
    "dice_std = np.std(dice_score)\n",
    "\n",
    "print('dice score =', dice_mean, dice_std)"
   ]
  },
  {
   "cell_type": "code",
   "execution_count": 11,
   "metadata": {},
   "outputs": [],
   "source": [
    "accuracy = []\n",
    "sensitivity = []\n",
    "specificity = []\n",
    "dice_score = []"
   ]
  },
  {
   "cell_type": "code",
   "execution_count": 28,
   "metadata": {},
   "outputs": [],
   "source": [
    "start = time.time()\n",
    "\n",
    "for i in range(len(list_in)):\n",
    "    path_file_in = os.path.join(path_in, list_in[i])\n",
    "    img_in = nib.load(path_file_in)\n",
    "    path_file_label = os.path.join(path_label, list_label[i])\n",
    "    img_label = nib.load(path_file_label)\n",
    "    path_file_out = os.path.join(path_out, list_out[i])\n",
    "    img_out = nib.load(path_file_out)\n",
    "\n",
    "    img_in_data = img_in.get_data()\n",
    "    t_in = torch.tensor(img_in_data)\n",
    "    img_label_data = img_label.get_data()\n",
    "    t_label = torch.tensor(img_label_data)\n",
    "    img_out_data = img_out.get_data()\n",
    "    t_out = torch.tensor(img_out_data)\n",
    "\n",
    "    start3 = time.time()\n",
    "\n",
    "    t_intersect = torch.mul(t_out.view(-1), t_label.view(-1))\n",
    "\n",
    "    t_subtract = t_out.view(-1) - t_label.view(-1)\n",
    "\n",
    "    t_tp = t_subtract[t_subtract > 0]\n",
    "\n",
    "    t_fn = t_subtract[t_subtract < 0]\n",
    "\n",
    "    tp = sum(t_intersect)\n",
    "    fp = sum(t_tp)\n",
    "    fn = sum(t_fn)\n",
    "    tn = len(t_out.view(-1)) - tp - fp - fn\n",
    "\n",
    "    end3 = time.time()\n",
    "\n",
    "    print(\"time 3 =\", end3-start3)\n",
    "\n",
    "    acc = (tn + tp) / (tn + tp + fn + fp)\n",
    "    sen = tp / (tp + fn)\n",
    "    spe = tn / (tn + fp)\n",
    "    dice = 2 * tp / (2 * tp + fp + fn)\n",
    "\n",
    "    accuracy.append(acc)\n",
    "    sensitivity.append(sen)\n",
    "    specificity.append(spe)\n",
    "    dice_score.append(dice)\n",
    "\n",
    "    print('acc =', acc)\n",
    "    print('sen =', sen)\n",
    "    print('spe =', spe)\n",
    "    print('dice', dice)\n",
    "\n",
    "end = time.time()\n",
    "\n",
    "print(\"time CM =\", end-start)"
   ]
  },
  {
   "cell_type": "code",
   "execution_count": 27,
   "metadata": {},
   "outputs": [
    {
     "data": {
      "text/plain": "242745344"
     },
     "execution_count": 27,
     "metadata": {},
     "output_type": "execute_result"
    }
   ],
   "source": [
    "len(t_out.view(-1))"
   ]
  },
  {
   "cell_type": "code",
   "execution_count": null,
   "metadata": {},
   "outputs": [],
   "source": [
    "acc_mean = np.mean(accuracy)\n",
    "acc_std = np.std(accuracy)\n",
    "\n",
    "print('accuracy =', acc_mean, acc_std)\n",
    "\n",
    "sen_mean = np.mean(sensitivity)\n",
    "sen_std = np.std(sensitivity)\n",
    "\n",
    "print('sensitivity =', sen_mean, sen_std)\n",
    "\n",
    "spe_mean = np.mean(specificity)\n",
    "spe_std = np.std(specificity)\n",
    "\n",
    "print('specificity =', spe_mean, spe_std)\n",
    "\n",
    "dice_mean = np.mean(dice_score)\n",
    "dice_std = np.std(dice_score)\n",
    "\n",
    "print('dice score =', dice_mean, dice_std)"
   ]
  },
  {
   "cell_type": "code",
   "execution_count": 84,
   "metadata": {},
   "outputs": [],
   "source": [
    "accuracy = []\n",
    "sensitivity = []\n",
    "specificity = []\n",
    "dice_score = []"
   ]
  },
  {
   "cell_type": "code",
   "execution_count": 89,
   "metadata": {},
   "outputs": [
    {
     "name": "stdout",
     "output_type": "stream",
     "text": "time 1 = 33.458210945129395\ntime 2 = 2485.203845977783\nacc = 0.9982558609252137\nsen = 0.9994497527748023\nspe = 0.9969980690790908\ndice 0.9983021168152738\ntime 1 = 25.23537015914917\ntime 2 = 2465.8902328014374\nacc = 0.9981806391761416\nsen = 0.9993695808336108\nspe = 0.9975484312490159\ndice 0.9973847625410844\ntime 1 = 30.7156400680542\ntime 2 = 2475.4786219596863\nacc = 0.9981425900512002\nsen = 0.9992905462020101\nspe = 0.9977324338036079\ndice 0.9964819268003209\n"
    },
    {
     "ename": "IndexError",
     "evalue": "list index out of range",
     "output_type": "error",
     "traceback": [
      "\u001b[0;31m---------------------------------------------------------------------------\u001b[0m",
      "\u001b[0;31mIndexError\u001b[0m                                Traceback (most recent call last)",
      "\u001b[0;32m<ipython-input-89-0e7e37deeb35>\u001b[0m in \u001b[0;36m<module>\u001b[0;34m\u001b[0m\n\u001b[1;32m      9\u001b[0m     \u001b[0mpath_file_label\u001b[0m \u001b[0;34m=\u001b[0m \u001b[0mos\u001b[0m\u001b[0;34m.\u001b[0m\u001b[0mpath\u001b[0m\u001b[0;34m.\u001b[0m\u001b[0mjoin\u001b[0m\u001b[0;34m(\u001b[0m\u001b[0mpath_label\u001b[0m\u001b[0;34m,\u001b[0m \u001b[0mlist_label\u001b[0m\u001b[0;34m[\u001b[0m\u001b[0mi\u001b[0m\u001b[0;34m]\u001b[0m\u001b[0;34m)\u001b[0m\u001b[0;34m\u001b[0m\u001b[0;34m\u001b[0m\u001b[0m\n\u001b[1;32m     10\u001b[0m     \u001b[0mimg_label\u001b[0m \u001b[0;34m=\u001b[0m \u001b[0mnib\u001b[0m\u001b[0;34m.\u001b[0m\u001b[0mload\u001b[0m\u001b[0;34m(\u001b[0m\u001b[0mpath_file_label\u001b[0m\u001b[0;34m)\u001b[0m\u001b[0;34m\u001b[0m\u001b[0;34m\u001b[0m\u001b[0m\n\u001b[0;32m---> 11\u001b[0;31m     \u001b[0mpath_file_out\u001b[0m \u001b[0;34m=\u001b[0m \u001b[0mos\u001b[0m\u001b[0;34m.\u001b[0m\u001b[0mpath\u001b[0m\u001b[0;34m.\u001b[0m\u001b[0mjoin\u001b[0m\u001b[0;34m(\u001b[0m\u001b[0mpath_out\u001b[0m\u001b[0;34m,\u001b[0m \u001b[0mlist_out\u001b[0m\u001b[0;34m[\u001b[0m\u001b[0mi\u001b[0m\u001b[0;34m]\u001b[0m\u001b[0;34m)\u001b[0m\u001b[0;34m\u001b[0m\u001b[0;34m\u001b[0m\u001b[0m\n\u001b[0m\u001b[1;32m     12\u001b[0m     \u001b[0mimg_out\u001b[0m \u001b[0;34m=\u001b[0m \u001b[0mnib\u001b[0m\u001b[0;34m.\u001b[0m\u001b[0mload\u001b[0m\u001b[0;34m(\u001b[0m\u001b[0mpath_file_out\u001b[0m\u001b[0;34m)\u001b[0m\u001b[0;34m\u001b[0m\u001b[0;34m\u001b[0m\u001b[0m\n\u001b[1;32m     13\u001b[0m \u001b[0;34m\u001b[0m\u001b[0m\n",
      "\u001b[0;31mIndexError\u001b[0m: list index out of range"
     ]
    }
   ],
   "source": [
    "start = time.time()\n",
    "\n",
    "for i in range(len(list_in)):\n",
    "\n",
    "    start1 = time.time()\n",
    "\n",
    "    path_file_in = os.path.join(path_in, list_in[i])\n",
    "    img_in = nib.load(path_file_in)\n",
    "    path_file_label = os.path.join(path_label, list_label[i])\n",
    "    img_label = nib.load(path_file_label)\n",
    "    path_file_out = os.path.join(path_out, list_out[i])\n",
    "    img_out = nib.load(path_file_out)\n",
    "\n",
    "    img_in_data = img_in.get_data()\n",
    "    t_in = torch.tensor(img_in_data)\n",
    "    img_label_data = img_label.get_data()\n",
    "    t_label = torch.tensor(img_label_data)\n",
    "    img_out_data = img_out.get_data()\n",
    "    t_out = torch.tensor(img_out_data)\n",
    "\n",
    "    end1 = time.time()\n",
    "\n",
    "    print(\"time 1 =\", end1-start1)\n",
    "\n",
    "    start2 = time.time()\n",
    "\n",
    "    # Confusion matrix calculation (faster)\n",
    "\n",
    "    for (x,y,z), value in np.ndenumerate(y_label):\n",
    "        if value == 0 and y_substraction[x, y, z] == 0:\n",
    "            tn += 1\n",
    "        if value == 1 and y_substraction[x, y, z] == 0:\n",
    "            tp += 1\n",
    "        if value == 0 and y_substraction[x, y, z] == -1:\n",
    "            fp += 1\n",
    "        if value == 1 and y_substraction[x, y, z] == 1:\n",
    "            fn += 1\n",
    "\n",
    "    end2 = time.time()\n",
    "\n",
    "    print(\"time 2 =\", end2-start2)\n",
    "\n",
    "    acc = (tn + tp) / (tn + tp + fn + fp)\n",
    "    sen = tp / (tp + fn)\n",
    "    spe = tn / (tn + fp)\n",
    "    dice = 2 * tp / (2 * tp + fp + fn)\n",
    "\n",
    "    accuracy.append(acc)\n",
    "    sensitivity.append(sen)\n",
    "    specificity.append(spe)\n",
    "    dice_score.append(dice)\n",
    "\n",
    "    print('acc =', acc)\n",
    "    print('sen =', sen)\n",
    "    print('spe =', spe)\n",
    "    print('dice', dice)\n",
    "\n",
    "end = time.time()\n",
    "\n",
    "print(\"time new =\", end-start)"
   ]
  },
  {
   "cell_type": "code",
   "execution_count": 88,
   "metadata": {},
   "outputs": [
    {
     "data": {
      "text/plain": "(512, 512, 827)"
     },
     "execution_count": 88,
     "metadata": {},
     "output_type": "execute_result"
    }
   ],
   "source": [
    "y_label.shape"
   ]
  },
  {
   "cell_type": "code",
   "execution_count": null,
   "metadata": {},
   "outputs": [],
   "source": [
    "acc_mean = np.mean(accuracy)\n",
    "acc_std = np.std(accuracy)\n",
    "\n",
    "print('accuracy =', acc_mean, acc_std)\n",
    "\n",
    "sen_mean = np.mean(sensitivity)\n",
    "sen_std = np.std(sensitivity)\n",
    "\n",
    "print('sensitivity =', sen_mean, sen_std)\n",
    "\n",
    "spe_mean = np.mean(specificity)\n",
    "spe_std = np.std(specificity)\n",
    "\n",
    "print('specificity =', spe_mean, spe_std)\n",
    "\n",
    "dice_mean = np.mean(dice_score)\n",
    "dice_std = np.std(dice_score)\n",
    "\n",
    "print('dice score =', dice_mean, dice_std)"
   ]
  },
  {
   "cell_type": "code",
   "execution_count": null,
   "metadata": {},
   "outputs": [],
   "source": [
    "y_label = t_label.numpy()\n",
    "y_out = t_out.numpy()"
   ]
  },
  {
   "cell_type": "code",
   "execution_count": null,
   "metadata": {},
   "outputs": [],
   "source": [
    "dice = np.sum(y_out[y_label==1]==1)*2.0 / (np.sum(y_out==1) + np.sum(y_label==1))"
   ]
  },
  {
   "cell_type": "code",
   "execution_count": null,
   "metadata": {},
   "outputs": [],
   "source": [
    "print(dice)"
   ]
  },
  {
   "cell_type": "code",
   "execution_count": null,
   "metadata": {},
   "outputs": [],
   "source": [
    "print(np.sum(y_out[y_label==1]==1))"
   ]
  },
  {
   "cell_type": "code",
   "execution_count": null,
   "metadata": {},
   "outputs": [],
   "source": [
    "tp"
   ]
  },
  {
   "cell_type": "code",
   "execution_count": 135,
   "metadata": {},
   "outputs": [
    {
     "data": {
      "text/plain": "1618934"
     },
     "execution_count": 135,
     "metadata": {},
     "output_type": "execute_result"
    }
   ],
   "source": [
    "tn"
   ]
  },
  {
   "cell_type": "markdown",
   "metadata": {},
   "source": []
  },
  {
   "cell_type": "code",
   "execution_count": null,
   "metadata": {},
   "outputs": [],
   "source": []
  }
 ],
 "metadata": {
  "kernelspec": {
   "name": "python37464bitb112e27707734d77a4fe848adda5e414",
   "display_name": "Python 3.7.4 64-bit"
  }
 },
 "nbformat": 4,
 "nbformat_minor": 2
}