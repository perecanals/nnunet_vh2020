{
 "metadata": {
  "language_info": {
   "codemirror_mode": {
    "name": "ipython",
    "version": 3
   },
   "file_extension": ".py",
   "mimetype": "text/x-python",
   "name": "python",
   "nbconvert_exporter": "python",
   "pygments_lexer": "ipython3",
   "version": 3
  },
  "orig_nbformat": 2
 },
 "nbformat": 4,
 "nbformat_minor": 2,
 "cells": [
  {
   "cell_type": "code",
   "execution_count": null,
   "metadata": {},
   "outputs": [],
   "source": [
    "import os\n",
    "import numpy as np\n",
    "\n",
    "import nibabel as nib\n",
    "\n",
    "from evaluation_metrics import surface_distance, voxel_distance, voxel_distance_with_underseg, eval_metrics, individual_eval"
   ]
  },
  {
   "cell_type": "code",
   "execution_count": null,
   "metadata": {},
   "outputs": [],
   "source": [
    "MODEL_DIR = '/Users/pere/Documents/Projects/Vall d\\'Hebron/Tortuositat/TFM/Experiment metric/Task100_DatasetSize10_lowres_initial_lr_1e3_123/nnUNetTrainerV2_initial_lr_1e3__nnUNetPlansv2.1/fold_1'\n",
    "label_path = os.path.join(MODEL_DIR, 'test', 'data', 'labels', '14315859.nii.gz')\n",
    "pred_path = os.path.join(MODEL_DIR, 'test', 'data', 'preds', '14315859.nii.gz')"
   ]
  },
  {
   "cell_type": "code",
   "execution_count": null,
   "metadata": {},
   "outputs": [],
   "source": [
    "label_nifti = nib.load(label_path)\n",
    "pred_nifti = nib.load(pred_path)\n",
    "label = label_nifti.get_data()\n",
    "pred = pred_nifti.get_data()\n",
    "voxel_size = label_nifti.header['pixdim'][1:4]"
   ]
  },
  {
   "cell_type": "code",
   "execution_count": null,
   "metadata": {},
   "outputs": [],
   "source": [
    "vox_dist = voxel_distance_with_underseg(pred, label, voxel_size)"
   ]
  },
  {
   "cell_type": "code",
   "execution_count": null,
   "metadata": {},
   "outputs": [],
   "source": [
    "base = \"/Users/pere/Documents/Projects/Vall d'Hebron/Tortuositat/TFM/Figures Matlab\""
   ]
  },
  {
   "cell_type": "code",
   "execution_count": null,
   "metadata": {},
   "outputs": [],
   "source": [
    "# Save as .mat for MATLAB\n",
    "import scipy.io\n",
    "scipy.io.savemat(os.path.join(base, '14315859.mat'), dict(label = label.astype('float32'), pred = pred.astype('float32'), vox_dist = vox_dist))"
   ]
  }
 ]
}