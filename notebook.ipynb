{
 "cells": [
  {
   "cell_type": "code",
   "execution_count": 34,
   "metadata": {},
   "outputs": [],
   "source": [
    "import os\n",
    "import numpy as np\n",
    "\n",
    "import shutil\n",
    "\n",
    "import nibabel as nib\n",
    "\n",
    "from evaluation_metrics import surface_distance, voxel_distance, voxel_distance_with_underseg, eval_metrics, individual_eval"
   ]
  },
  {
   "cell_type": "code",
   "execution_count": 5,
   "metadata": {},
   "outputs": [],
   "source": [
    "nnunet_path = os.path.abspath('')\n",
    "MODEL_DIR = os.path.join(nnunet_path, 'models', 'Task100_DatasetSize10_lowres_initial_lr_1e3_123', 'nnUNetTrainerV2__nnUNetPlansv2.1', 'fold_0')"
   ]
  },
  {
   "cell_type": "code",
   "execution_count": 12,
   "metadata": {},
   "outputs": [],
   "source": [
    "MODEL_DIR = '/Users/pere/Documents/Projects/Vall d\\'Hebron/Tortuositat/TFM/Experiment metric/Task100_DatasetSize10_lowres_initial_lr_1e3_123/nnUNetTrainerV2_initial_lr_1e3__nnUNetPlansv2.1'\n",
    "fold_0 = os.path.join(MODEL_DIR, 'fold_0')\n",
    "fold_1 = os.path.join(MODEL_DIR, 'fold_1')\n",
    "fold_2 = os.path.join(MODEL_DIR, 'fold_2')"
   ]
  },
  {
   "cell_type": "code",
   "execution_count": 16,
   "metadata": {
    "tags": []
   },
   "outputs": [
    {
     "output_type": "stream",
     "name": "stdout",
     "text": "Reading data...\ndone\n    \nNumber of images for testing: 10\n                                              \nEvaluation for 11457946.nii.gz\nDice     : 0.943382\nJaccard  : 0.892831\nPrecision: 0.951405\nRecall   : 0.935492\n                                      \nEvaluation for 11738261.nii.gz\nDice     : 0.932426\nJaccard  : 0.873406\nPrecision: 0.937122\nRecall   : 0.927776\n                                      \nEvaluation for 11984906.nii.gz\nDice     : 0.913543\nJaccard  : 0.840845\nPrecision: 0.932078\nRecall   : 0.895730\n                                      \nEvaluation for 12456568.nii.gz\nDice     : 0.957516\nJaccard  : 0.918496\nPrecision: 0.967046\nRecall   : 0.948173\n                                      \nEvaluation for 14062212.nii.gz\nDice     : 0.943066\nJaccard  : 0.892266\nPrecision: 0.959328\nRecall   : 0.927347\n                                      \nEvaluation for 14255730.nii.gz\nDice     : 0.956932\nJaccard  : 0.917420\nPrecision: 0.970778\nRecall   : 0.943475\n                                      \nEvaluation for 14315859.nii.gz\nDice     : 0.874697\nJaccard  : 0.777299\nPrecision: 0.836287\nRecall   : 0.916806\n                                      \nEvaluation for 14941502.nii.gz\nDice     : 0.928731\nJaccard  : 0.866945\nPrecision: 0.932305\nRecall   : 0.925184\n                                      \nEvaluation for 19307050.nii.gz\nDice     : 0.959690\nJaccard  : 0.922503\nPrecision: 0.979621\nRecall   : 0.940553\n                                      \nEvaluation for 19751837.nii.gz\nDice     : 0.943479\nJaccard  : 0.893005\nPrecision: 0.946970\nRecall   : 0.940013\n                                      \nFiles saved in /Users/pere/Documents/Projects/Vall d'Hebron/Tortuositat/TFM/Experiment metric/Task100_DatasetSize10_lowres_initial_lr_1e3_123/nnUNetTrainerV2_initial_lr_1e3__nnUNetPlansv2.1/fold_0/test/progress\n                            \nResults:                                   \nMean Dice     : 0.935346\nMean Jaccard  : 0.879502\nMean Precision: 0.941294\nMean Recall   : 0.930055\nEvaluation took 63.21513795852661 s (10 images)\n                                                              \n"
    }
   ],
   "source": [
    "eval_metrics(nnunet_path, fold_0)"
   ]
  },
  {
   "cell_type": "code",
   "execution_count": 17,
   "metadata": {
    "tags": []
   },
   "outputs": [
    {
     "output_type": "stream",
     "name": "stdout",
     "text": "Reading data...\ndone\n    \nNumber of images for testing: 10\n                                              \nEvaluation for 11457946.nii.gz\nDice     : 0.943382\nJaccard  : 0.892831\nPrecision: 0.951405\nRecall   : 0.935492\n                                      \nEvaluation for 11738261.nii.gz\nDice     : 0.932426\nJaccard  : 0.873406\nPrecision: 0.937122\nRecall   : 0.927776\n                                      \nEvaluation for 11984906.nii.gz\nDice     : 0.913543\nJaccard  : 0.840845\nPrecision: 0.932078\nRecall   : 0.895730\n                                      \nEvaluation for 12456568.nii.gz\nDice     : 0.957516\nJaccard  : 0.918496\nPrecision: 0.967046\nRecall   : 0.948173\n                                      \nEvaluation for 14062212.nii.gz\nDice     : 0.943066\nJaccard  : 0.892266\nPrecision: 0.959328\nRecall   : 0.927347\n                                      \nEvaluation for 14255730.nii.gz\nDice     : 0.956932\nJaccard  : 0.917420\nPrecision: 0.970778\nRecall   : 0.943475\n                                      \nEvaluation for 14315859.nii.gz\nDice     : 0.874697\nJaccard  : 0.777299\nPrecision: 0.836287\nRecall   : 0.916806\n                                      \nEvaluation for 14941502.nii.gz\nDice     : 0.928731\nJaccard  : 0.866945\nPrecision: 0.932305\nRecall   : 0.925184\n                                      \nEvaluation for 19307050.nii.gz\nDice     : 0.959690\nJaccard  : 0.922503\nPrecision: 0.979621\nRecall   : 0.940553\n                                      \nEvaluation for 19751837.nii.gz\nDice     : 0.943479\nJaccard  : 0.893005\nPrecision: 0.946970\nRecall   : 0.940013\n                                      \nFiles saved in /Users/pere/Documents/Projects/Vall d'Hebron/Tortuositat/TFM/Experiment metric/Task100_DatasetSize10_lowres_initial_lr_1e3_123/nnUNetTrainerV2_initial_lr_1e3__nnUNetPlansv2.1/fold_1/test/progress\n                            \nResults:                                   \nMean Dice     : 0.935346\nMean Jaccard  : 0.879502\nMean Precision: 0.941294\nMean Recall   : 0.930055\nEvaluation took 62.61285996437073 s (10 images)\n                                                              \n"
    }
   ],
   "source": [
    "eval_metrics(nnunet_path, fold_1)"
   ]
  },
  {
   "cell_type": "code",
   "execution_count": 18,
   "metadata": {
    "tags": []
   },
   "outputs": [
    {
     "output_type": "stream",
     "name": "stdout",
     "text": "Reading data...\ndone\n    \nNumber of images for testing: 10\n                                              \nEvaluation for 11457946.nii.gz\nDice     : 0.943382\nJaccard  : 0.892831\nPrecision: 0.951405\nRecall   : 0.935492\n                                      \nEvaluation for 11738261.nii.gz\nDice     : 0.932426\nJaccard  : 0.873406\nPrecision: 0.937122\nRecall   : 0.927776\n                                      \nEvaluation for 11984906.nii.gz\nDice     : 0.913543\nJaccard  : 0.840845\nPrecision: 0.932078\nRecall   : 0.895730\n                                      \nEvaluation for 12456568.nii.gz\nDice     : 0.957516\nJaccard  : 0.918496\nPrecision: 0.967046\nRecall   : 0.948173\n                                      \nEvaluation for 14062212.nii.gz\nDice     : 0.943066\nJaccard  : 0.892266\nPrecision: 0.959328\nRecall   : 0.927347\n                                      \nEvaluation for 14255730.nii.gz\nDice     : 0.956932\nJaccard  : 0.917420\nPrecision: 0.970778\nRecall   : 0.943475\n                                      \nEvaluation for 14315859.nii.gz\nDice     : 0.874697\nJaccard  : 0.777299\nPrecision: 0.836287\nRecall   : 0.916806\n                                      \nEvaluation for 14941502.nii.gz\nDice     : 0.928731\nJaccard  : 0.866945\nPrecision: 0.932305\nRecall   : 0.925184\n                                      \nEvaluation for 19307050.nii.gz\nDice     : 0.959690\nJaccard  : 0.922503\nPrecision: 0.979621\nRecall   : 0.940553\n                                      \nEvaluation for 19751837.nii.gz\nDice     : 0.943479\nJaccard  : 0.893005\nPrecision: 0.946970\nRecall   : 0.940013\n                                      \nFiles saved in /Users/pere/Documents/Projects/Vall d'Hebron/Tortuositat/TFM/Experiment metric/Task100_DatasetSize10_lowres_initial_lr_1e3_123/nnUNetTrainerV2_initial_lr_1e3__nnUNetPlansv2.1/fold_2/test/progress\n                            \nResults:                                   \nMean Dice     : 0.935346\nMean Jaccard  : 0.879502\nMean Precision: 0.941294\nMean Recall   : 0.930055\nEvaluation took 65.87116813659668 s (10 images)\n                                                              \n"
    }
   ],
   "source": [
    "eval_metrics(nnunet_path, fold_2)"
   ]
  },
  {
   "cell_type": "markdown",
   "metadata": {},
   "source": [
    "## Individual Evaluation"
   ]
  },
  {
   "cell_type": "code",
   "execution_count": 10,
   "metadata": {},
   "outputs": [],
   "source": [
    "MODEL_DIR = '/Users/pere/Documents/Projects/Vall d\\'Hebron/Tortuositat/TFM/Experiment metric/DatasetSize20_fold2'\n",
    "pred = os.path.join(MODEL_DIR, 'test/data/preds/15144458.nii.gz')\n",
    "label = os.path.join(MODEL_DIR, 'test/data/labels/15144458.nii.gz')"
   ]
  },
  {
   "cell_type": "code",
   "execution_count": 8,
   "metadata": {
    "tags": []
   },
   "outputs": [
    {
     "output_type": "stream",
     "name": "stdout",
     "text": "Dice     : 0.952607\nJaccard  : 0.909502\nPrecision: 0.943267\nRecall   : 0.962133\n                                 \n"
    }
   ],
   "source": [
    "individual_eval(pred, label)"
   ]
  },
  {
   "cell_type": "code",
   "execution_count": null,
   "metadata": {},
   "outputs": [],
   "source": [
    "src = \"/Users/pere/Documents/Projects/Vall d'Hebron/Tortuositat/Database/Database Pere/NIFTIS\"\n",
    "dst_im = \"/Users/pere/opt/anaconda3/envs/nnunet_env/nnUNet/nnunet/database_vh/database_images\"\n",
    "dst_la = \"/Users/pere/opt/anaconda3/envs/nnunet_env/nnUNet/nnunet/database_vh/database_labels\""
   ]
  },
  {
   "cell_type": "code",
   "execution_count": 32,
   "metadata": {
    "tags": []
   },
   "outputs": [
    {
     "output_type": "stream",
     "name": "stdout",
     "text": "1\n2\n3\n4\n5\n6\n"
    }
   ],
   "source": [
    "for idx in range(1,8):\n",
    "    src_idx = os.path.join(src, f'batch0{idx}')\n",
    "    batch = os.listdir(src_idx)\n",
    "    for patient in batch:\n",
    "        if len(patients) == 8:\n",
    "            shutil.copyfile(os.path.join(src_idx, patient, f'{patient})_CTA.nii.gz'), os.path.join(dst_la, f'{patient}.nii.gz'))\n",
    "            shutil.copyfile(os.path.join(src_idx, patient, f'{patient})_label.nii.gz'), os.path.join(dst_im, f'{patient}.nii.gz'))"
   ]
  },
  {
   "cell_type": "code",
   "execution_count": 31,
   "metadata": {},
   "outputs": [
    {
     "output_type": "execute_result",
     "data": {
      "text/plain": "range(1, 7)"
     },
     "metadata": {},
     "execution_count": 31
    }
   ],
   "source": [
    "range(1,7)"
   ]
  },
  {
   "cell_type": "code",
   "execution_count": null,
   "metadata": {},
   "outputs": [],
   "source": []
  }
 ],
 "metadata": {
  "kernelspec": {
   "display_name": "Python 3.7.4 64-bit ('base': conda)",
   "language": "python",
   "name": "python37464bitbaseconda08ea4702d26c4a568fe3dcda8da50807"
  },
  "language_info": {
   "codemirror_mode": {
    "name": "ipython",
    "version": 3
   },
   "file_extension": ".py",
   "mimetype": "text/x-python",
   "name": "python",
   "nbconvert_exporter": "python",
   "pygments_lexer": "ipython3",
   "version": "3.7.4-final"
  }
 },
 "nbformat": 4,
 "nbformat_minor": 2
}